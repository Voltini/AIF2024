{
 "cells": [
  {
   "cell_type": "markdown",
   "id": "VAf15cKpOiTd",
   "metadata": {
    "id": "VAf15cKpOiTd"
   },
   "source": [
    "Téléchargement base de données + préprocessing"
   ]
  },
  {
   "cell_type": "markdown",
   "id": "6819959b",
   "metadata": {},
   "source": [
    "Pour Linux"
   ]
  },
  {
   "cell_type": "code",
   "execution_count": null,
   "id": "xbozjPNqcj_U",
   "metadata": {
    "id": "xbozjPNqcj_U"
   },
   "outputs": [],
   "source": [
    "!wget https://s3.amazonaws.com/fast-ai-imageclas/imagenette2.tgz > /dev/null 2>&1\n",
    "!tar zxvf imagenette2.tgz > /dev/null 2>&1"
   ]
  },
  {
   "cell_type": "markdown",
   "id": "09f7054b",
   "metadata": {},
   "source": [
    "Pour MacOS"
   ]
  },
  {
   "cell_type": "code",
   "execution_count": null,
   "id": "86064f8a",
   "metadata": {},
   "outputs": [],
   "source": [
    "!curl -O -# https://s3.amazonaws.com/fast-ai-imageclas/imagenette2.tgz\n",
    "!tar -zxvf imagenette2.tgz > /dev/null 2>&1"
   ]
  },
  {
   "cell_type": "code",
   "execution_count": null,
   "id": "M5gVifREq6Vj",
   "metadata": {
    "colab": {
     "base_uri": "https://localhost:8080/"
    },
    "id": "M5gVifREq6Vj",
    "outputId": "3f43b184-61a5-479e-8c30-bf848b81bb12"
   },
   "outputs": [],
   "source": [
    "from google.colab import drive\n",
    "\n",
    "drive.mount(\"/content/drive\")"
   ]
  },
  {
   "cell_type": "code",
   "execution_count": null,
   "id": "6e64b679-4574-4872-a372-bdcf2e8b5e77",
   "metadata": {
    "id": "6e64b679-4574-4872-a372-bdcf2e8b5e77"
   },
   "outputs": [],
   "source": [
    "import torchvision\n",
    "import torchvision.transforms as transforms\n",
    "import torch\n",
    "import os\n",
    "from torch.utils.data import Dataset\n",
    "\n",
    "means, stds = (0.485, 0.456, 0.406), (0.229, 0.224, 0.225)\n",
    "train_transform = transforms.Compose(\n",
    "    [\n",
    "        transforms.Resize((224, 224)),\n",
    "        transforms.ToTensor(),\n",
    "        transforms.Normalize(means, stds),\n",
    "    ]\n",
    ")\n",
    "\n",
    "test_transform = transforms.Compose(\n",
    "    [\n",
    "        transforms.Resize((224, 224)),\n",
    "        transforms.ToTensor(),\n",
    "        transforms.Normalize(means, stds),\n",
    "    ]\n",
    ")\n",
    "\n",
    "\n",
    "def get_imagenette2_loaders(root_path=\"./imagenette2\", **kwargs):\n",
    "\n",
    "    trainset = torchvision.datasets.ImageFolder(\n",
    "        os.path.join(root_path, \"train\"), transform=train_transform\n",
    "    )\n",
    "    trainloader = torch.utils.data.DataLoader(trainset, **kwargs)\n",
    "    testset = torchvision.datasets.ImageFolder(\n",
    "        os.path.join(root_path, \"val\"), transform=test_transform\n",
    "    )\n",
    "    testloader = torch.utils.data.DataLoader(testset, **kwargs)\n",
    "    return trainloader, testloader\n",
    "\n",
    "\n",
    "trainloader, testloader = get_imagenette2_loaders(\n",
    "    batch_size=64, shuffle=True, num_workers=2\n",
    ")\n",
    "\n",
    "labels = [\n",
    "    \"tench\",\n",
    "    \"English springer\",\n",
    "    \"cassette player\",\n",
    "    \"chain saw\",\n",
    "    \"church\",\n",
    "    \"French horn\",\n",
    "    \"garbage truck\",\n",
    "    \"gas pump\",\n",
    "    \"golf ball\",\n",
    "    \"parachute\",\n",
    "]"
   ]
  },
  {
   "cell_type": "code",
   "execution_count": null,
   "id": "c20b7fa6-d651-4839-bda2-0657f3ff3c54",
   "metadata": {
    "colab": {
     "base_uri": "https://localhost:8080/",
     "height": 491
    },
    "id": "c20b7fa6-d651-4839-bda2-0657f3ff3c54",
    "outputId": "6248acab-3cea-4673-9dde-a9e90b829e47"
   },
   "outputs": [],
   "source": [
    "from torchvision.utils import make_grid\n",
    "import matplotlib.pyplot as plt\n",
    "\n",
    "inv_normalize = transforms.Normalize(\n",
    "    mean=[-m / s for m, s in zip(means, stds)], std=[1 / s for s in stds]\n",
    ")\n",
    "\n",
    "x, _ = next(iter(trainloader))\n",
    "img_grid = make_grid(x[:16])\n",
    "img_grid = inv_normalize(img_grid)\n",
    "plt.figure(figsize=(20, 15))\n",
    "plt.imshow(img_grid.permute(1, 2, 0))\n",
    "plt.axis(\"off\")"
   ]
  },
  {
   "cell_type": "markdown",
   "id": "-Rn3DquJO74T",
   "metadata": {
    "id": "-Rn3DquJO74T"
   },
   "source": [
    "Modèle 1 : pr-trained VGG11"
   ]
  },
  {
   "cell_type": "code",
   "execution_count": null,
   "id": "myxoTJF2PEIF",
   "metadata": {
    "colab": {
     "base_uri": "https://localhost:8080/"
    },
    "id": "myxoTJF2PEIF",
    "outputId": "868d5dc3-ede8-4c95-e7c0-e0c4a5e0d5bb"
   },
   "outputs": [],
   "source": [
    "import torch.nn as nn\n",
    "import torch\n",
    "\n",
    "model = torchvision.models.vgg11(pretrained=True)\n",
    "for param in model.features:\n",
    "    param.requires_grad = False\n",
    "\n",
    "model.classifier = nn.Sequential(\n",
    "    nn.Linear(in_features=25088, out_features=4096, bias=True),\n",
    "    nn.ReLU(inplace=True),\n",
    "    nn.Linear(in_features=4096, out_features=4096, bias=True),\n",
    "    nn.ReLU(inplace=True),\n",
    "    nn.Linear(in_features=4096, out_features=10, bias=True),\n",
    ")\n",
    "if torch.cuda.is_available():\n",
    "    model = model.cuda()"
   ]
  },
  {
   "cell_type": "code",
   "execution_count": null,
   "id": "QPFtkuztPtUD",
   "metadata": {
    "id": "QPFtkuztPtUD"
   },
   "outputs": [],
   "source": [
    "from tqdm import tqdm\n",
    "\n",
    "criterion_classifier = nn.CrossEntropyLoss(reduction=\"mean\")\n",
    "\n",
    "\n",
    "def train(model, optimizer, trainloader, epochs=30):\n",
    "    t = tqdm(range(epochs))\n",
    "    for epoch in t:\n",
    "        corrects = 0\n",
    "        total = 0\n",
    "        for x, y in trainloader:\n",
    "            loss = 0\n",
    "            if torch.cuda.is_available():\n",
    "                x = x.cuda()\n",
    "                y = y.cuda()\n",
    "            y_hat = model(x)\n",
    "\n",
    "            loss += criterion_classifier(y_hat, y)\n",
    "            _, predicted = y_hat.max(1)\n",
    "            corrects += predicted.eq(y).sum().item()\n",
    "            total += y.size(0)\n",
    "            optimizer.zero_grad()\n",
    "            loss.backward()\n",
    "            optimizer.step()\n",
    "            t.set_description(\n",
    "                f\"epoch:{epoch} current accuracy:{round(corrects / total * 100, 2)}%\"\n",
    "            )\n",
    "    return corrects / total"
   ]
  },
  {
   "cell_type": "code",
   "execution_count": null,
   "id": "K2aupdyiPwU8",
   "metadata": {
    "colab": {
     "base_uri": "https://localhost:8080/"
    },
    "id": "K2aupdyiPwU8",
    "outputId": "b6205b32-bc6a-41ef-93cd-53cd06bace0e"
   },
   "outputs": [],
   "source": [
    "learning_rate = 5e-3\n",
    "epochs = 1\n",
    "optimizer = torch.optim.Adam(model.classifier.parameters(), lr=learning_rate)\n",
    "train(model, optimizer, trainloader, epochs=epochs)"
   ]
  },
  {
   "cell_type": "code",
   "execution_count": null,
   "id": "mjuGr0NFPyED",
   "metadata": {
    "colab": {
     "base_uri": "https://localhost:8080/"
    },
    "id": "mjuGr0NFPyED",
    "outputId": "01abcfee-3543-4ada-e0ee-13211d614fe6"
   },
   "outputs": [],
   "source": [
    "def test(model, dataloader):\n",
    "    test_corrects = 0\n",
    "    total = 0\n",
    "    with torch.no_grad():\n",
    "        for x, y in dataloader:\n",
    "            if torch.cuda.is_available():\n",
    "                x = x.cuda()\n",
    "                y = y.cuda()\n",
    "            y_hat = model(x).argmax(1)\n",
    "            test_corrects += y_hat.eq(y).sum().item()\n",
    "            total += y.size(0)\n",
    "    return test_corrects / total\n",
    "\n",
    "\n",
    "model.eval()\n",
    "test_acc = test(model, testloader)\n",
    "print(f\"Test accuracy: {test_acc:.2f} %\")"
   ]
  },
  {
   "cell_type": "markdown",
   "id": "n8LClgDeVp1T",
   "metadata": {
    "id": "n8LClgDeVp1T"
   },
   "source": [
    "Méthode 1 : RISE"
   ]
  },
  {
   "cell_type": "code",
   "execution_count": null,
   "id": "lqDXwXC2Vn8x",
   "metadata": {
    "id": "lqDXwXC2Vn8x"
   },
   "outputs": [],
   "source": [
    "import numpy as np\n",
    "from skimage.transform import resize\n",
    "\n",
    "\n",
    "def generate_masks(N, s, p1, image_size):\n",
    "    cell_size = np.ceil(np.array(image_size) / s)\n",
    "    up_size = (s + 1) * cell_size\n",
    "\n",
    "    grid = np.random.rand(N, s, s) < p1\n",
    "    grid = grid.astype(\"float32\")\n",
    "\n",
    "    masks = np.empty((N, *image_size))\n",
    "\n",
    "    for i in range(N):\n",
    "        # Random shifts\n",
    "        x = np.random.randint(0, cell_size[0])\n",
    "        y = np.random.randint(0, cell_size[1])\n",
    "        # Linear interpolation\n",
    "        masks[i, :, :] = resize(\n",
    "            grid[i], up_size, order=1, mode=\"reflect\", anti_aliasing=False\n",
    "        )[x : x + image_size[0], y : y + image_size[1]]\n",
    "\n",
    "    masks = masks.reshape(-1, 1, *image_size)\n",
    "    masks = torch.from_numpy(masks).float()\n",
    "    # masks = masks.cuda()\n",
    "\n",
    "    return masks"
   ]
  },
  {
   "cell_type": "code",
   "execution_count": null,
   "id": "H3rN-MLkXLlD",
   "metadata": {
    "id": "H3rN-MLkXLlD"
   },
   "outputs": [],
   "source": [
    "def explain(model, N, p1, img, masks, gpu_batch=2):\n",
    "    img = img.unsqueeze(0).to(\"cpu\")\n",
    "    _, _, H, W = img.size()\n",
    "    print(type(img), type(masks))\n",
    "    stack = torch.mul(masks, img)\n",
    "\n",
    "    p = []\n",
    "\n",
    "    \"\"\"for i in range(0, N, gpu_batch):\n",
    "         output = model(stack[i:min(i + gpu_batch, N)].to('cuda'))\n",
    "         p.append(output.to('cpu'))\"\"\"\n",
    "\n",
    "    for i in tqdm(range(N)):\n",
    "        with torch.no_grad():\n",
    "            output = model(stack[i : i + 1].to(\"cuda\"))\n",
    "            p.append(output.to(\"cpu\"))\n",
    "\n",
    "    p = torch.cat(p)\n",
    "\n",
    "    CL = p.size(1)\n",
    "    sal = torch.matmul(p.data.transpose(0, 1), masks.view(N, H * W))\n",
    "    sal = sal.view((CL, H, W))\n",
    "    sal = sal / N / p1\n",
    "    return sal"
   ]
  },
  {
   "cell_type": "code",
   "execution_count": null,
   "id": "LlhlvQpJYcji",
   "metadata": {
    "colab": {
     "base_uri": "https://localhost:8080/",
     "height": 441
    },
    "id": "LlhlvQpJYcji",
    "outputId": "08e1c574-0196-417e-8e8e-46359836adc6"
   },
   "outputs": [],
   "source": [
    "# Visualisation de la importance map pour la prédiction du modèle VGG11 sur l'image suivante\n",
    "\n",
    "idx = 7\n",
    "\n",
    "img = inv_normalize(x[idx])\n",
    "np_img = np.transpose(img.cpu().detach().numpy(), (1, 2, 0)) * 255\n",
    "np_img = np_img.astype(np.uint8)\n",
    "plt.imshow(np_img)\n",
    "plt.axis(\"off\")\n",
    "input = x[idx].unsqueeze(0)\n",
    "if torch.cuda.is_available():\n",
    "    input = input.cuda()\n",
    "output = model(input)\n",
    "_, prediction = torch.topk(output, 1)\n",
    "print(prediction)\n",
    "print(f\"Model's prediction: {labels[prediction.item()]}\")"
   ]
  },
  {
   "cell_type": "code",
   "execution_count": null,
   "id": "eLaN5LHm7DwB",
   "metadata": {
    "colab": {
     "base_uri": "https://localhost:8080/"
    },
    "id": "eLaN5LHm7DwB",
    "outputId": "6a29fce0-4d8a-443a-a31f-72ac657d83ae"
   },
   "outputs": [],
   "source": [
    "print(img.shape[-2:])"
   ]
  },
  {
   "cell_type": "code",
   "execution_count": null,
   "id": "Fh6Lf_5QZ0SW",
   "metadata": {
    "colab": {
     "base_uri": "https://localhost:8080/",
     "height": 176
    },
    "id": "Fh6Lf_5QZ0SW",
    "outputId": "f4562ec1-5344-4c5b-f429-c62886e26a2c"
   },
   "outputs": [],
   "source": [
    "N = 12000  # Number of masks\n",
    "s = 8  # Size of grid\n",
    "p1 = 0.1  # Probability of inclusion\n",
    "\n",
    "masks = generate_masks(N, s, p1, img.shape[-2:])"
   ]
  },
  {
   "cell_type": "code",
   "execution_count": null,
   "id": "uD-QTtF0iwES",
   "metadata": {
    "id": "uD-QTtF0iwES"
   },
   "outputs": [],
   "source": [
    "# saliency_maps = explain(model, N, p1, img.cuda(), masks)\n",
    "saliency_maps = explain(model, N, p1, img, masks)\n",
    "\n",
    "plt.imshow(np_img)\n",
    "\n",
    "plt.imshow(saliency_maps[0], cmap=\"turbo\", alpha=0.5)\n",
    "plt.colorbar()\n",
    "plt.show()"
   ]
  }
 ],
 "metadata": {
  "accelerator": "GPU",
  "colab": {
   "gpuType": "T4",
   "provenance": []
  },
  "kernelspec": {
   "display_name": "Python 3 (ipykernel)",
   "language": "python",
   "name": "python3"
  },
  "language_info": {
   "codemirror_mode": {
    "name": "ipython",
    "version": 3
   },
   "file_extension": ".py",
   "mimetype": "text/x-python",
   "name": "python",
   "nbconvert_exporter": "python",
   "pygments_lexer": "ipython3",
   "version": "3.12.2"
  }
 },
 "nbformat": 4,
 "nbformat_minor": 5
}
